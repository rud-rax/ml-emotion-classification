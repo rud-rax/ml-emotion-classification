{
 "cells": [
  {
   "cell_type": "markdown",
   "metadata": {},
   "source": [
    "# SMOTE "
   ]
  },
  {
   "cell_type": "code",
   "execution_count": 3,
   "metadata": {},
   "outputs": [],
   "source": [
    "import numpy as np\n",
    "from collections import Counter\n",
    "\n",
    "import pandas as pd\n",
    "from imblearn.over_sampling import SMOTE\n",
    "from sklearn.preprocessing import LabelEncoder\n",
    "\n",
    "import seaborn as sns\n",
    "import matplotlib.pyplot as plt\n",
    "\n"
   ]
  },
  {
   "cell_type": "code",
   "execution_count": 4,
   "metadata": {},
   "outputs": [],
   "source": [
    "df = pd.read_csv(\"../data/imbalanced_preprocessed_1.csv\")\n"
   ]
  },
  {
   "cell_type": "code",
   "execution_count": 5,
   "metadata": {},
   "outputs": [],
   "source": [
    "# Encode categorical target variable\n",
    "label_encoder = LabelEncoder()\n",
    "df['Category_encoded'] = label_encoder.fit_transform(df['Category'])"
   ]
  },
  {
   "cell_type": "code",
   "execution_count": 6,
   "metadata": {},
   "outputs": [],
   "source": [
    "\n",
    "\n",
    "\n",
    "\n",
    "# Separate features and target variable\n",
    "X = df[['dynamics_rms_mean', 'dynamics_rms_std',\n",
    "       'pitch_pitch_mean', 'rhythm_attacktime_mean',\n",
    "       'rhythm_eventdensity_mean', 'rhythm_fluctuationmax_peakposmean',\n",
    "       'rhythm_pulseclarity_mean', 'rhythm_tempo_mean', 'rhythm_tempo_std',\n",
    "       'spectral_brightness_mean', 'spectral_brightness_std',\n",
    "       'spectral_centroid_mean', 'spectral_centroid_std',\n",
    "       'spectral_flatness_mean', 'spectral_flatness_std',\n",
    "       'spectral_inharmonicity_mean', 'spectral_irregularity_mean',\n",
    "       'spectral_kurtosis_mean', 'spectral_kurtosis_std',\n",
    "       'spectral_mfcc_mean_1', 'spectral_mfcc_mean_10',\n",
    "       'spectral_mfcc_mean_11', 'spectral_mfcc_mean_12',\n",
    "       'spectral_mfcc_mean_13', 'spectral_mfcc_mean_2', 'spectral_mfcc_mean_3',\n",
    "       'spectral_mfcc_mean_4', 'spectral_mfcc_mean_5', 'spectral_mfcc_mean_6',\n",
    "       'spectral_mfcc_mean_7', 'spectral_mfcc_mean_8', 'spectral_mfcc_mean_9',\n",
    "       'spectral_mfcc_std_1', 'spectral_mfcc_std_10', 'spectral_mfcc_std_11',\n",
    "       'spectral_mfcc_std_12', 'spectral_mfcc_std_13', 'spectral_mfcc_std_2',\n",
    "       'spectral_mfcc_std_3', 'spectral_mfcc_std_4', 'spectral_mfcc_std_5',\n",
    "       'spectral_mfcc_std_6', 'spectral_mfcc_std_7', 'spectral_mfcc_std_8',\n",
    "       'spectral_mfcc_std_9', 'spectral_novelty_mean', 'spectral_novelty_std',\n",
    "       'spectral_rolloff85_mean', 'spectral_rolloff85_std',\n",
    "       'spectral_rolloff95_mean', 'spectral_rolloff95_std',\n",
    "       'spectral_roughness_mean', 'spectral_skewness_mean',\n",
    "       'spectral_skewness_std', 'spectral_spectentropy_mean',\n",
    "       'spectral_spectentropy_std', 'spectral_spread_mean',\n",
    "       'spectral_spread_std', 'timbre_lowenergy_mean', 'timbre_lowenergy_std',\n",
    "       'timbre_spectralflux_mean', 'timbre_spectralflux_std',\n",
    "       'tonal_hcdf_mean', 'tonal_hcdf_std', 'tonal_keyclarity_mean',\n",
    "       'tonal_keyclarity_std', 'tonal_mode_mean', 'tonal_mode_std']]  # Feature columns\n",
    "y = df['Category_encoded']       # Encoded target column\n",
    "\n"
   ]
  },
  {
   "cell_type": "code",
   "execution_count": 7,
   "metadata": {},
   "outputs": [],
   "source": [
    "# Apply SMOTE to oversample minority classes\n",
    "smote = SMOTE(sampling_strategy='auto', random_state=42)\n",
    "X_resampled, y_resampled = smote.fit_resample(X, y)\n",
    "\n"
   ]
  },
  {
   "cell_type": "code",
   "execution_count": 8,
   "metadata": {},
   "outputs": [],
   "source": [
    "# Decode target variable back to original labels\n",
    "y_resampled = label_encoder.inverse_transform(y_resampled)\n",
    "\n"
   ]
  },
  {
   "cell_type": "code",
   "execution_count": 9,
   "metadata": {},
   "outputs": [
    {
     "name": "stdout",
     "output_type": "stream",
     "text": [
      "Category\n",
      "Class 4    182\n",
      "Class 1    182\n",
      "Class 3    182\n",
      "Class 2    182\n",
      "Name: count, dtype: int64\n"
     ]
    }
   ],
   "source": [
    "# Create a balanced DataFrame\n",
    "df_balanced = pd.DataFrame(X_resampled, columns=['Arousal', 'Valence'])\n",
    "df_balanced['Category'] = y_resampled\n",
    "\n",
    "# Display class distribution after oversampling\n",
    "print(df_balanced['Category'].value_counts())"
   ]
  },
  {
   "cell_type": "code",
   "execution_count": 10,
   "metadata": {},
   "outputs": [
    {
     "name": "stdout",
     "output_type": "stream",
     "text": [
      "Category\n",
      "Class 4    182\n",
      "Class 2    173\n",
      "Class 3     83\n",
      "Class 1     42\n",
      "Name: count, dtype: int64\n"
     ]
    }
   ],
   "source": [
    "print(df['Category'].value_counts())\n"
   ]
  },
  {
   "cell_type": "code",
   "execution_count": 11,
   "metadata": {},
   "outputs": [],
   "source": [
    "df_balanced.to_csv(\"../data/balanced_preprocessed_1.csv\" , index = False)"
   ]
  },
  {
   "cell_type": "code",
   "execution_count": 12,
   "metadata": {},
   "outputs": [
    {
     "data": {
      "image/png": "[encoded data removed]",
      "text/plain": [
       "<Figure size 800x500 with 1 Axes>"
      ]
     },
     "metadata": {},
     "output_type": "display_data"
    }
   ],
   "source": [
    "\n",
    "\n",
    "# Count the occurrences of each category\n",
    "category_counts = df_balanced['Category'].value_counts()\n",
    "\n",
    "# Plot the distribution\n",
    "plt.figure(figsize=(8, 5))\n",
    "sns.barplot(x=category_counts.index, y=category_counts.values , hue= category_counts.index)\n",
    "\n",
    "# Add labels and title\n",
    "plt.xlabel('Category')\n",
    "plt.ylabel('Count')\n",
    "plt.title('Distribution of Arousal-Valence Categories')\n",
    "\n",
    "# Show the plot\n",
    "plt.show()"
   ]
  },
  {
   "cell_type": "code",
   "execution_count": null,
   "metadata": {},
   "outputs": [],
   "source": []
  }
 ],
 "metadata": {
  "kernelspec": {
   "display_name": ".venv",
   "language": "python",
   "name": "python3"
  },
  "language_info": {
   "codemirror_mode": {
    "name": "ipython",
    "version": 3
   },
   "file_extension": ".py",
   "mimetype": "text/x-python",
   "name": "python",
   "nbconvert_exporter": "python",
   "pygments_lexer": "ipython3",
   "version": "3.12.6"
  }
 },
 "nbformat": 4,
 "nbformat_minor": 2
}
